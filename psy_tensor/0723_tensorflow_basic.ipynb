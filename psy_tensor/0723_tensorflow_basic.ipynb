{
 "cells": [
  {
   "cell_type": "code",
   "execution_count": 2,
   "metadata": {
    "collapsed": true
   },
   "outputs": [],
   "source": [
    "import numpy as np\n",
    "import tensorflow as tf"
   ]
  },
  {
   "cell_type": "code",
   "execution_count": 6,
   "metadata": {
    "collapsed": false
   },
   "outputs": [
    {
     "name": "stdout",
     "output_type": "stream",
     "text": [
      "[[-0.33333334  0.66666666 -0.33333334]]\n"
     ]
    }
   ],
   "source": [
    "with tf.Session() as sess:\n",
    "    x = tf.placeholder(\"float\", [1,3])\n",
    "    w = tf.Variable(tf.random_normal([3,3]), name='w')\n",
    "    relu_out = tf.nn.relu(tf.matmul(x,w))\n",
    "    softmax = tf.nn.softmax(relu_out)\n",
    "    sess.run(tf.initialize_all_variables())\n",
    "    answer = np.array([0.0, 1.0, 0.0])\n",
    "    print answer - sess.run(softmax, feed_dict={x:np.array([[1.0,2.0,3.0]])})"
   ]
  },
  {
   "cell_type": "code",
   "execution_count": 7,
   "metadata": {
    "collapsed": true
   },
   "outputs": [],
   "source": [
    "#Define Loss Funciton: Loss function for softmax\n",
    "labels = tf.placeholder(\"float\",[1,3])\n",
    "cross_entropy = tf.nn.softmax_cross_entropy_with_logits(relu_out, labels, name='xentropy')"
   ]
  },
  {
   "cell_type": "code",
   "execution_count": null,
   "metadata": {
    "collapsed": true
   },
   "outputs": [],
   "source": [
    "#Learn parameter: Optimization\n",
    "optimizer = tf.train.GradientDescentOptimizer(0.1) #learning rate = 0.1\n",
    "train_op = optimizer.minimize(cross_entropy)\n"
   ]
  }
 ],
 "metadata": {
  "kernelspec": {
   "display_name": "Python 2",
   "language": "python",
   "name": "python2"
  },
  "language_info": {
   "codemirror_mode": {
    "name": "ipython",
    "version": 2
   },
   "file_extension": ".py",
   "mimetype": "text/x-python",
   "name": "python",
   "nbconvert_exporter": "python",
   "pygments_lexer": "ipython2",
   "version": "2.7.11"
  }
 },
 "nbformat": 4,
 "nbformat_minor": 0
}
