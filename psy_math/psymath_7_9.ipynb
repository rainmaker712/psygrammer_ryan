{
 "cells": [
  {
   "cell_type": "markdown",
   "metadata": {},
   "source": [
    "# DS from Scratch"
   ]
  },
  {
   "cell_type": "code",
   "execution_count": 4,
   "metadata": {
    "collapsed": false
   },
   "outputs": [
    {
     "name": "stdout",
     "output_type": "stream",
     "text": [
      "True\n"
     ]
    }
   ],
   "source": [
    "#2.2.5\n",
    "\n",
    "import re\n",
    "\n",
    "print all ([\n",
    "        not re.match(\"a\", \"cat\"), #'cat'은  'a'로 시작하지 않기 때문에\n",
    "        re.search(\"a\", \"cat\"),\n",
    "        not re.search(\"c\", \"dog\"),\n",
    "        3 == len(re.split(\"[ab]\", \"carbs\")),\n",
    "        \n",
    "        \"R-D-\" == re.sub(\"[0-9]\", \"-\", \"R2D2\")\n",
    "    ])"
   ]
  },
  {
   "cell_type": "code",
   "execution_count": 2,
   "metadata": {
    "collapsed": false
   },
   "outputs": [],
   "source": [
    "#2.2.6\n",
    "\n",
    "class Set:\n",
    "    \n",
    "    def __init__(self, values=None):\n",
    "        \n",
    "        s1 = Set()\n",
    "        s2 = Set([1,2,2,3])\n",
    "        \n",
    "        self.dict = {}\n",
    "        \n",
    "        if values is not None:\n",
    "            for value in values:\n",
    "                self.add(value)\n",
    "                \n",
    "    def __repr__(self):\n",
    "        #python에서 이 함수를 입력하면 str() 로 보내주면 Set 객체를 문자열로 표현\n",
    "        return \"Set:\" + str(self.dict.keys())\n",
    "        \n",
    "    def add(self, value):\n",
    "        self.dict[value] = True\n",
    "        \n",
    "    #먼저 항목이 dict의 key라면 항목은 Set 안에 존재함\n",
    "    def contains(self, value):\n",
    "        return value in self.dict\n",
    "    \n",
    "    def remove(self, value):\n",
    "        del self.dict[value]"
   ]
  },
  {
   "cell_type": "code",
   "execution_count": 5,
   "metadata": {
    "collapsed": true
   },
   "outputs": [],
   "source": [
    "def exp(base, power):\n",
    "    return base ** power\n",
    "\n",
    "def two_to_the(power):\n",
    "    return exp(2, power)"
   ]
  },
  {
   "cell_type": "code",
   "execution_count": 6,
   "metadata": {
    "collapsed": false
   },
   "outputs": [
    {
     "ename": "ImportError",
     "evalue": "cannot import name partical",
     "output_type": "error",
     "traceback": [
      "\u001b[0;31m---------------------------------------------------------------------------\u001b[0m",
      "\u001b[0;31mImportError\u001b[0m                               Traceback (most recent call last)",
      "\u001b[0;32m<ipython-input-6-5a44581ed88e>\u001b[0m in \u001b[0;36m<module>\u001b[0;34m()\u001b[0m\n\u001b[0;32m----> 1\u001b[0;31m \u001b[0;32mfrom\u001b[0m \u001b[0mfunctools\u001b[0m \u001b[0;32mimport\u001b[0m \u001b[0mpartical\u001b[0m\u001b[0;34m\u001b[0m\u001b[0m\n\u001b[0m\u001b[1;32m      2\u001b[0m \u001b[0mtwo_to_the\u001b[0m \u001b[0;34m=\u001b[0m \u001b[0mpartical\u001b[0m\u001b[0;34m(\u001b[0m\u001b[0mexp\u001b[0m\u001b[0;34m,\u001b[0m \u001b[0;36m2\u001b[0m\u001b[0;34m)\u001b[0m\u001b[0;34m\u001b[0m\u001b[0m\n\u001b[1;32m      3\u001b[0m \u001b[0;32mprint\u001b[0m \u001b[0mtwo_to_the\u001b[0m\u001b[0;34m(\u001b[0m\u001b[0;36m3\u001b[0m\u001b[0;34m)\u001b[0m\u001b[0;34m\u001b[0m\u001b[0m\n",
      "\u001b[0;31mImportError\u001b[0m: cannot import name partical"
     ]
    }
   ],
   "source": [
    "from functools import partical\n",
    "two_to_the = partical(exp, 2)\n",
    "print two_to_the(3)"
   ]
  },
  {
   "cell_type": "code",
   "execution_count": 11,
   "metadata": {
    "collapsed": false
   },
   "outputs": [],
   "source": [
    "def double(x):\n",
    "    return 2 * x\n",
    "\n",
    "xs = [1,2,3,4]\n",
    "twice_xs = [double(x) for x in xs] #[2,4,6,8]\n",
    "twice_xs = map(double, xs) #결과와 동일"
   ]
  },
  {
   "cell_type": "code",
   "execution_count": null,
   "metadata": {
    "collapsed": true
   },
   "outputs": [],
   "source": [
    "#*args **kwargs = dictionary 형태로 데이터를 받기도 한다."
   ]
  }
 ],
 "metadata": {
  "kernelspec": {
   "display_name": "Python 2",
   "language": "python",
   "name": "python2"
  },
  "language_info": {
   "codemirror_mode": {
    "name": "ipython",
    "version": 2
   },
   "file_extension": ".py",
   "mimetype": "text/x-python",
   "name": "python",
   "nbconvert_exporter": "python",
   "pygments_lexer": "ipython2",
   "version": "2.7.12"
  }
 },
 "nbformat": 4,
 "nbformat_minor": 0
}
